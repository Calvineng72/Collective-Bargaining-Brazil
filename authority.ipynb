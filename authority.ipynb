{
 "cells": [
  {
   "cell_type": "code",
   "execution_count": 61,
   "metadata": {},
   "outputs": [
    {
     "name": "stdout",
     "output_type": "stream",
     "text": [
      "Isso aqui é uma frase simples em português usada como exemplo para ajudar a entender o programa.\n",
      "Isso PRON nsubj\n",
      "aqui ADV advmod\n",
      "é AUX cop\n",
      "uma DET det\n",
      "frase NOUN ROOT\n",
      "simples ADJ amod\n",
      "em ADP case\n",
      "português NOUN nmod\n",
      "usada VERB acl\n",
      "como ADP case\n",
      "exemplo NOUN obl\n",
      "para SCONJ mark\n",
      "ajudar VERB advcl\n",
      "a SCONJ mark\n",
      "entender VERB xcomp\n",
      "o DET det\n",
      "programa NOUN obj\n",
      ". PUNCT punct\n"
     ]
    }
   ],
   "source": [
    "import spacy\n",
    "\n",
    "nlp = spacy.load('pt_core_news_sm')\n",
    "\n",
    "text = 'Isso aqui é uma frase simples em português usada como exemplo para ajudar a entender o programa.'\n",
    "\n",
    "doc = nlp(text)\n",
    "\n",
    "for token in doc:\n",
    "    print(token.text, token.pos_, token.dep_)"
   ]
  },
  {
   "cell_type": "code",
   "execution_count": 62,
   "metadata": {},
   "outputs": [
    {
     "name": "stdout",
     "output_type": "stream",
     "text": [
      "Ao ADP case\n",
      "contrário NOUN obl\n",
      "da ADP case\n",
      "outra DET det\n",
      "frase NOUN nmod\n",
      ", PUNCT punct\n",
      "esta DET det\n",
      "frase NOUN nsubj\n",
      "complexa ADJ amod\n",
      "usa VERB ROOT\n",
      "um DET det\n",
      "verbo NOUN obj\n",
      "melhor ADJ amod\n",
      ", PUNCT punct\n",
      "criando VERB advcl\n",
      "um DET det\n",
      "cenário NOUN obj\n",
      "diferente ADJ amod\n",
      ". PUNCT punct\n"
     ]
    }
   ],
   "source": [
    "text = \"Ao contrário da outra frase, esta frase complexa usa um verbo melhor, criando um cenário diferente.\"\n",
    "\n",
    "doc = nlp(text)\n",
    "\n",
    "for token in doc:\n",
    "    print(token.text, token.pos_, token.dep_)"
   ]
  },
  {
   "attachments": {},
   "cell_type": "markdown",
   "metadata": {},
   "source": [
    "Understanding the root of a sentence: https://universaldependencies.org/pt/dep/root.html"
   ]
  }
 ],
 "metadata": {
  "kernelspec": {
   "display_name": "base",
   "language": "python",
   "name": "python3"
  },
  "language_info": {
   "codemirror_mode": {
    "name": "ipython",
    "version": 3
   },
   "file_extension": ".py",
   "mimetype": "text/x-python",
   "name": "python",
   "nbconvert_exporter": "python",
   "pygments_lexer": "ipython3",
   "version": "3.9.13"
  },
  "orig_nbformat": 4
 },
 "nbformat": 4,
 "nbformat_minor": 2
}
