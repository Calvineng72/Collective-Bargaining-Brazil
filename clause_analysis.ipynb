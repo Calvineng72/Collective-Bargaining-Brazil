{
 "cells": [
  {
   "cell_type": "code",
   "execution_count": 428,
   "metadata": {},
   "outputs": [],
   "source": [
    "import pandas as pd\n",
    "import os\n",
    "import io\n",
    "from itertools import dropwhile, takewhile"
   ]
  },
  {
   "cell_type": "code",
   "execution_count": 429,
   "metadata": {},
   "outputs": [],
   "source": [
    "# sets the output directory\n",
    "cba_path = os.path.join(\".\", \"clause_data\")\n",
    "if not os.path.isdir(cba_path):\n",
    "    os.mkdir(cba_path)\n",
    "\n",
    "# sets the input directory\n",
    "file_path = os.getcwd() + '/cbas'"
   ]
  },
  {
   "cell_type": "code",
   "execution_count": 430,
   "metadata": {},
   "outputs": [],
   "source": [
    "clause_groups = pd.read_csv('clause_groups.csv', index_col='Clause Group')\n",
    "translation_dict = clause_groups['Translation'].to_dict()\n",
    "themes = list(map(str, clause_groups['Theme'].unique()))\n",
    "theme_dict = clause_groups['Theme'].to_dict()\n",
    "\n",
    "def extract_clauses(file_path, clause_type):\n",
    "    with io.open(file_path, 'r') as f:\n",
    "        # removes white space from the ends of lines\n",
    "        lines = (line.strip() for line in f)  \n",
    "    \n",
    "        # extracts the types of clauses present\n",
    "        clause_flag_start = dropwhile(lambda line: '<STARTofCLAUSES>' not in line, lines)\n",
    "        next(clause_flag_start,\"\")\n",
    "        clause_flag_end = takewhile(lambda line: '<ENDofCLAUSES>' not in line, clause_flag_start)\n",
    "        themes = []\n",
    "        titles = []\n",
    "        for line in clause_flag_end:\n",
    "            if not line: \n",
    "                continue  \n",
    "            title = line.split('|')[0]\n",
    "            translation = translation_dict[title]\n",
    "            titles.append(translation)\n",
    "            theme = theme_dict[title]\n",
    "            themes.append(theme)\n",
    "\n",
    "        # extracts the text of clauses\n",
    "        text_flag_start = dropwhile(lambda line: '<STARTofTEXT>' not in line, lines)\n",
    "        next(text_flag_start, \"\")\n",
    "        texts = []\n",
    "        text = []\n",
    "        for line in text_flag_start:\n",
    "            if '|' in line: \n",
    "                text.append(line.split('|')[0])\n",
    "                texts.append((' ').join(text))\n",
    "                text = []\n",
    "            else:\n",
    "                text.append(line)\n",
    "        if text:\n",
    "            texts.append((' ').join(text))\n",
    "\n",
    "        # finds all clauses of the corresponding type\n",
    "        index_list = []\n",
    "        for index, theme in enumerate(themes):\n",
    "            if theme == clause_type:\n",
    "                index_list.append(index)\n",
    "\n",
    "        # retains clauses of proper type\n",
    "        # titles_of_type = list(itemgetter(*index_list)(titles))\n",
    "        # texts_of_type = list(itemgetter(*index_list)(texts))\n",
    "        titles_of_type = [titles[i] for i in index_list]\n",
    "        texts_of_type = [texts[i] for i in index_list]\n",
    "\n",
    "        \n",
    "        return titles_of_type, texts_of_type"
   ]
  },
  {
   "cell_type": "code",
   "execution_count": 431,
   "metadata": {},
   "outputs": [
    {
     "data": {
      "text/plain": [
       "(['Non-compliance with Agreement', 'Renewal / Termination of the Agreement'],\n",
       " ['Em caso de descumprimento do presente acordo, a empresa pagará multa de um piso da categoria, que será revertido em favor do empregado prejudicado. ',\n",
       "  'O presente acordo deverá ter uma via depositada no órgão regional do\\xa0 Ministério do Trabalho, tendo validade pelo prazo de dois anos, a contar de 01/01/2014, podendo ser revogado ou prorrogado por outro acordo, conforme a conveniência das partes acordantes. E por estarem justas e acordadas as partes\\xa0 firmam o presente acordo em 03 (três) vias de igual forma e teor para que produza os efeitos legais. '])"
      ]
     },
     "execution_count": 431,
     "metadata": {},
     "output_type": "execute_result"
    }
   ],
   "source": [
    "extract_clauses('cbas/2014_01_01__2014_081501.txt', 'Contract Agreement')"
   ]
  },
  {
   "cell_type": "code",
   "execution_count": 432,
   "metadata": {},
   "outputs": [],
   "source": [
    "def output_all(file_path_x, files_x, clause_type):\n",
    "    # only consider files with start dates 2008-2017\n",
    "    #if files_x[0:4]=='2008':\n",
    "    if files_x[0:4]=='2008' or files_x[0:4]=='2009' or files_x[0:4]=='2010' or files_x[0:4]=='2011' or files_x[0:4]=='2012' \\\n",
    "    or files_x[0:4]=='2013' or files_x[0:4]=='2014' or files_x[0:4]=='2015' or files_x[0:4]=='2016' or files_x[0:4]=='2017':\n",
    "        # contract identifier\n",
    "        contract_id = [files_x[-15:-4]]\n",
    "        if len(files_x[-15:-4])!=11:\n",
    "            pass\n",
    "        titles, texts = extract_clauses(os.path.join(file_path_x, files_x), clause_type)\n",
    "        # save info for contract as a single new line\n",
    "        with io.open(path_txt,'a',encoding='utf8') as f:\n",
    "            for title, text in zip(titles, texts):\n",
    "                output = contract_id + [title, text]\n",
    "                pair_line = ('|').join(str(x) for x in output)\n",
    "                f.write(pair_line + \"\\n\")"
   ]
  },
  {
   "cell_type": "code",
   "execution_count": 433,
   "metadata": {},
   "outputs": [],
   "source": [
    "for theme in themes: \n",
    "    file_name = theme.lower()\n",
    "    file_name = file_name.replace(' / ', '_')\n",
    "    file_name = file_name.replace(' ', '_')\n",
    "\n",
    "    # rewrites output file\n",
    "    path_txt = os.path.join(cba_path, f\"{file_name}_text.csv\")\n",
    "    with io.open(path_txt,'w',encoding='utf8') as f:\n",
    "        header = 'contract_id|title|text'\n",
    "        f.write(header + '\\n')\n",
    "\n",
    "    # loops over each contract\n",
    "    for idx, files in enumerate(os.listdir(file_path)):\n",
    "        output_all(file_path, files, theme)"
   ]
  },
  {
   "cell_type": "code",
   "execution_count": 434,
   "metadata": {},
   "outputs": [],
   "source": [
    "for theme in themes: \n",
    "    file_name = theme.lower().replace(' / ', '_').replace(' ', '_')\n",
    "\n",
    "    df = pd.read_csv(f'clause_data/{file_name}_text.csv', sep='|')\n",
    "    clean_text = []\n",
    "    for i in range(len(df)):\n",
    "        text = df['text'][i]\n",
    "        text = text.replace('\\r','')\n",
    "        text = text.replace('\\n','')\n",
    "        text = text.replace('. ','')\n",
    "        text = text.replace('.','')\n",
    "        text = text.replace(', ',' ')\n",
    "        text = text.replace(': ',' ')\n",
    "        text = text.replace(' - ',' ')\n",
    "        text = text.replace('; ',' ')\n",
    "        text = text.replace(')','')\n",
    "        text = text.replace('(','')\n",
    "        text = text.replace('\"','')\n",
    "        text = text.replace('\\xa0', '')\n",
    "        text = text.replace(' – ', ' ')\n",
    "        text = text.replace(' / ', ' ')\n",
    "        text = text.replace('  ', ' ')\n",
    "        text = text.replace('   ', ' ')\n",
    "        text = text.replace('    ', ' ')\n",
    "        text = text.replace('     ', ' ')\n",
    "        text = text.replace('      ', ' ')\n",
    "        clean_text.append(text.lower())\n",
    "    df['clean_text'] = clean_text\n",
    "    df.to_csv(f'clause_data/{file_name}_text.csv', sep='|')"
   ]
  }
 ],
 "metadata": {
  "kernelspec": {
   "display_name": "base",
   "language": "python",
   "name": "python3"
  },
  "language_info": {
   "codemirror_mode": {
    "name": "ipython",
    "version": 3
   },
   "file_extension": ".py",
   "mimetype": "text/x-python",
   "name": "python",
   "nbconvert_exporter": "python",
   "pygments_lexer": "ipython3",
   "version": "3.9.13"
  },
  "orig_nbformat": 4
 },
 "nbformat": 4,
 "nbformat_minor": 2
}
